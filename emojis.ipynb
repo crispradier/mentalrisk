{
 "cells": [
  {
   "cell_type": "code",
   "execution_count": 2,
   "id": "8ab01d89-8d6c-4d7b-824c-e6dabd3212bc",
   "metadata": {},
   "outputs": [],
   "source": [
    "import json\n",
    "import re\n",
    "import os"
   ]
  },
  {
   "cell_type": "code",
   "execution_count": 3,
   "id": "212b8167-ed9a-46aa-b488-d0d6be087c52",
   "metadata": {},
   "outputs": [],
   "source": [
    "with open('emojis_es.txt') as f:\n",
    "    emojis=f.readlines()\n",
    "    \n",
    "tono={}\n",
    "caras={}\n",
    "manos={}\n",
    "for e in emojis:\n",
    "    e=e[:-1]\n",
    "    e=e.split(',')\n",
    "    if 'tono de piel' in e[1]:\n",
    "        tono[e[1]]=e[0]    \n",
    "    elif 'cara' in e[1]:\n",
    "        caras[e[1]]=e[0]\n",
    "    elif 'mano' in e[1]:\n",
    "        manos[e[1]]=e[0]\n",
    "    else:\n",
    "        pass"
   ]
  },
  {
   "cell_type": "code",
   "execution_count": 6,
   "id": "39166c9c",
   "metadata": {},
   "outputs": [],
   "source": [
    "for filename in os.listdir('./data/task1/train/subjects/'):\n",
    "    with open(f'./data/task1/train/subjects/{filename}', 'r') as f:\n",
    "        s=json.load(f)\n",
    "        for l in s:\n",
    "            m=l['message']\n",
    "            while 'tono de piel' in m:\n",
    "                kp=''\n",
    "                for k in tono.keys():\n",
    "                    if k in m:\n",
    "                        if len(k)>len(kp):\n",
    "                            kp=k \n",
    "                if kp=='':\n",
    "                    break\n",
    "                m=re.sub(kp, tono[kp], m)    \n",
    "            while 'cara' in m:\n",
    "                kp=''\n",
    "                for k in caras.keys():\n",
    "                    if k in m:\n",
    "                        if len(k)>len(kp):\n",
    "                            kp=k\n",
    "                if kp=='':\n",
    "                    break\n",
    "                m=re.sub(kp, caras[kp], m)\n",
    "            while 'mano' in m:\n",
    "                kp=''\n",
    "                for k in manos.keys():\n",
    "                    if k in m:\n",
    "                        if len(k)>len(kp):\n",
    "                            kp=k\n",
    "                if kp=='':\n",
    "                    break\n",
    "                m=re.sub(kp, manos[kp], m)\n",
    "            l['message']=m\n",
    "        with open(f'./data/task1/train/subjects_e/{filename}', 'w') as g:\n",
    "            json.dump(s, g)"
   ]
  }
 ],
 "metadata": {
  "kernelspec": {
   "display_name": "Python 3 (ipykernel)",
   "language": "python",
   "name": "python3"
  },
  "language_info": {
   "codemirror_mode": {
    "name": "ipython",
    "version": 3
   },
   "file_extension": ".py",
   "mimetype": "text/x-python",
   "name": "python",
   "nbconvert_exporter": "python",
   "pygments_lexer": "ipython3",
   "version": "3.9.7"
  }
 },
 "nbformat": 4,
 "nbformat_minor": 5
}
